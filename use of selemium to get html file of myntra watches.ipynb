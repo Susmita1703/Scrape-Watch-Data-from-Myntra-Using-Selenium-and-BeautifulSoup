{
 "cells": [
  {
   "cell_type": "code",
   "execution_count": 1,
   "id": "bd9341f7",
   "metadata": {},
   "outputs": [],
   "source": [
    "from selenium import webdriver\n",
    "from selenium.webdriver.chrome.service import Service\n",
    "from selenium.webdriver.common.by import By\n",
    "from selenium.webdriver.common.keys import Keys\n",
    "from webdriver_manager.chrome import ChromeDriverManager\n",
    "import time\n",
    "\n",
    "# Set up the WebDriver using webdriver-manager\n",
    "service = Service(ChromeDriverManager().install())\n",
    "driver = webdriver.Chrome(service=service)\n",
    "\n",
    "try:\n",
    "    # Open Myntra\n",
    "    driver.get('https://www.myntra.com/')\n",
    "\n",
    "    # Wait for the page to load\n",
    "    time.sleep(5)\n",
    "\n",
    "    # Find the search box element and input the query\n",
    "    search_box = driver.find_element(By.XPATH, '//*[@id=\"desktop-header-cnt\"]/div[2]/div[3]/input')\n",
    "    search_box.send_keys('watches')\n",
    "    search_box.send_keys(Keys.RETURN)  # Press Enter to submit the search\n",
    "\n",
    "    # Wait for search results to load\n",
    "    time.sleep(5)\n",
    "\n",
    "    # Initialize a string to hold the combined HTML data\n",
    "    combined_html = \"\"\n",
    "\n",
    "    for page in range(1, 5):\n",
    "        # Get the page source HTML and append to the combined_html\n",
    "        combined_html += driver.page_source\n",
    "\n",
    "        # If it's not the last page, click the \"Next\" button\n",
    "        if page < 4:\n",
    "            next_button = driver.find_element(By.XPATH, '//*[@id=\"desktopSearchResults\"]/div[2]/section/div[2]/ul/li[4]')\n",
    "            next_button.click()\n",
    "            time.sleep(5)  # Wait for the next page to load\n",
    "\n",
    "    # Save the combined HTML data to a single file\n",
    "    with open('myntra_watches_all_combined.html', 'w', encoding='utf-8') as file:\n",
    "        file.write(combined_html)\n",
    "\n",
    "finally:\n",
    "    # Close the WebDriver\n",
    "    driver.quit()"
   ]
  }
 ],
 "metadata": {
  "kernelspec": {
   "display_name": "Python 3 (ipykernel)",
   "language": "python",
   "name": "python3"
  },
  "language_info": {
   "codemirror_mode": {
    "name": "ipython",
    "version": 3
   },
   "file_extension": ".py",
   "mimetype": "text/x-python",
   "name": "python",
   "nbconvert_exporter": "python",
   "pygments_lexer": "ipython3",
   "version": "3.11.5"
  }
 },
 "nbformat": 4,
 "nbformat_minor": 5
}
